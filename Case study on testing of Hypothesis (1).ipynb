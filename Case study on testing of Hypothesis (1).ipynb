{
 "cells": [
  {
   "cell_type": "markdown",
   "id": "f35a064b",
   "metadata": {},
   "source": [
    "OBJECTIVES:\n",
    "A company started to invest in digital marketing as a new way of their product\n",
    "promotions.For that they collected data and decided to carry out a study on it.\n",
    "● The company wishes to clarify whether there is any increase in sales after\n",
    "stepping into digital marketing.\n",
    "● The company needs to check whether there is any dependency between the\n",
    "features “Region” and “Manager”.\n",
    "Help the company to carry out their study with the help of data provided."
   ]
  },
  {
   "cell_type": "code",
   "execution_count": 1,
   "id": "fad7a9a1",
   "metadata": {},
   "outputs": [],
   "source": [
    "import pandas as pd"
   ]
  },
  {
   "cell_type": "code",
   "execution_count": 2,
   "id": "1c5ab399",
   "metadata": {},
   "outputs": [
    {
     "data": {
      "text/html": [
       "<div>\n",
       "<style scoped>\n",
       "    .dataframe tbody tr th:only-of-type {\n",
       "        vertical-align: middle;\n",
       "    }\n",
       "\n",
       "    .dataframe tbody tr th {\n",
       "        vertical-align: top;\n",
       "    }\n",
       "\n",
       "    .dataframe thead th {\n",
       "        text-align: right;\n",
       "    }\n",
       "</style>\n",
       "<table border=\"1\" class=\"dataframe\">\n",
       "  <thead>\n",
       "    <tr style=\"text-align: right;\">\n",
       "      <th></th>\n",
       "      <th>Month</th>\n",
       "      <th>Region</th>\n",
       "      <th>Manager</th>\n",
       "      <th>Sales_before_digital_add(in $)</th>\n",
       "      <th>Sales_After_digital_add(in $)</th>\n",
       "    </tr>\n",
       "  </thead>\n",
       "  <tbody>\n",
       "    <tr>\n",
       "      <th>0</th>\n",
       "      <td>Month-1</td>\n",
       "      <td>Region - A</td>\n",
       "      <td>Manager - A</td>\n",
       "      <td>132921</td>\n",
       "      <td>270390</td>\n",
       "    </tr>\n",
       "    <tr>\n",
       "      <th>1</th>\n",
       "      <td>Month-2</td>\n",
       "      <td>Region - A</td>\n",
       "      <td>Manager - C</td>\n",
       "      <td>149559</td>\n",
       "      <td>223334</td>\n",
       "    </tr>\n",
       "    <tr>\n",
       "      <th>2</th>\n",
       "      <td>Month-3</td>\n",
       "      <td>Region - B</td>\n",
       "      <td>Manager - A</td>\n",
       "      <td>146278</td>\n",
       "      <td>244243</td>\n",
       "    </tr>\n",
       "    <tr>\n",
       "      <th>3</th>\n",
       "      <td>Month-4</td>\n",
       "      <td>Region - B</td>\n",
       "      <td>Manager - B</td>\n",
       "      <td>152167</td>\n",
       "      <td>231808</td>\n",
       "    </tr>\n",
       "    <tr>\n",
       "      <th>4</th>\n",
       "      <td>Month-5</td>\n",
       "      <td>Region - C</td>\n",
       "      <td>Manager - B</td>\n",
       "      <td>159525</td>\n",
       "      <td>258402</td>\n",
       "    </tr>\n",
       "    <tr>\n",
       "      <th>5</th>\n",
       "      <td>Month-6</td>\n",
       "      <td>Region - A</td>\n",
       "      <td>Manager - B</td>\n",
       "      <td>137163</td>\n",
       "      <td>256948</td>\n",
       "    </tr>\n",
       "    <tr>\n",
       "      <th>6</th>\n",
       "      <td>Month-7</td>\n",
       "      <td>Region - C</td>\n",
       "      <td>Manager - C</td>\n",
       "      <td>130625</td>\n",
       "      <td>222106</td>\n",
       "    </tr>\n",
       "    <tr>\n",
       "      <th>7</th>\n",
       "      <td>Month-8</td>\n",
       "      <td>Region - A</td>\n",
       "      <td>Manager - A</td>\n",
       "      <td>131140</td>\n",
       "      <td>230637</td>\n",
       "    </tr>\n",
       "    <tr>\n",
       "      <th>8</th>\n",
       "      <td>Month-9</td>\n",
       "      <td>Region - B</td>\n",
       "      <td>Manager - C</td>\n",
       "      <td>171259</td>\n",
       "      <td>226261</td>\n",
       "    </tr>\n",
       "    <tr>\n",
       "      <th>9</th>\n",
       "      <td>Month-10</td>\n",
       "      <td>Region - C</td>\n",
       "      <td>Manager - B</td>\n",
       "      <td>141956</td>\n",
       "      <td>193735</td>\n",
       "    </tr>\n",
       "    <tr>\n",
       "      <th>10</th>\n",
       "      <td>Month-11</td>\n",
       "      <td>Region - B</td>\n",
       "      <td>Manager - C</td>\n",
       "      <td>159339</td>\n",
       "      <td>203175</td>\n",
       "    </tr>\n",
       "    <tr>\n",
       "      <th>11</th>\n",
       "      <td>Month-12</td>\n",
       "      <td>Region - A</td>\n",
       "      <td>Manager - A</td>\n",
       "      <td>178939</td>\n",
       "      <td>276279</td>\n",
       "    </tr>\n",
       "    <tr>\n",
       "      <th>12</th>\n",
       "      <td>Month-13</td>\n",
       "      <td>Region - B</td>\n",
       "      <td>Manager - A</td>\n",
       "      <td>145062</td>\n",
       "      <td>205180</td>\n",
       "    </tr>\n",
       "    <tr>\n",
       "      <th>13</th>\n",
       "      <td>Month-14</td>\n",
       "      <td>Region - A</td>\n",
       "      <td>Manager - A</td>\n",
       "      <td>151514</td>\n",
       "      <td>253131</td>\n",
       "    </tr>\n",
       "    <tr>\n",
       "      <th>14</th>\n",
       "      <td>Month-15</td>\n",
       "      <td>Region - C</td>\n",
       "      <td>Manager - A</td>\n",
       "      <td>147463</td>\n",
       "      <td>229336</td>\n",
       "    </tr>\n",
       "    <tr>\n",
       "      <th>15</th>\n",
       "      <td>Month-16</td>\n",
       "      <td>Region - A</td>\n",
       "      <td>Manager - B</td>\n",
       "      <td>177195</td>\n",
       "      <td>187305</td>\n",
       "    </tr>\n",
       "    <tr>\n",
       "      <th>16</th>\n",
       "      <td>Month-17</td>\n",
       "      <td>Region - A</td>\n",
       "      <td>Manager - C</td>\n",
       "      <td>140862</td>\n",
       "      <td>234908</td>\n",
       "    </tr>\n",
       "    <tr>\n",
       "      <th>17</th>\n",
       "      <td>Month-18</td>\n",
       "      <td>Region - C</td>\n",
       "      <td>Manager - B</td>\n",
       "      <td>167996</td>\n",
       "      <td>191517</td>\n",
       "    </tr>\n",
       "    <tr>\n",
       "      <th>18</th>\n",
       "      <td>Month-19</td>\n",
       "      <td>Region - B</td>\n",
       "      <td>Manager - A</td>\n",
       "      <td>132135</td>\n",
       "      <td>227040</td>\n",
       "    </tr>\n",
       "    <tr>\n",
       "      <th>19</th>\n",
       "      <td>Month-20</td>\n",
       "      <td>Region - A</td>\n",
       "      <td>Manager - B</td>\n",
       "      <td>152493</td>\n",
       "      <td>212579</td>\n",
       "    </tr>\n",
       "    <tr>\n",
       "      <th>20</th>\n",
       "      <td>Month-21</td>\n",
       "      <td>Region - B</td>\n",
       "      <td>Manager - A</td>\n",
       "      <td>147425</td>\n",
       "      <td>263388</td>\n",
       "    </tr>\n",
       "    <tr>\n",
       "      <th>21</th>\n",
       "      <td>Month-22</td>\n",
       "      <td>Region - A</td>\n",
       "      <td>Manager - C</td>\n",
       "      <td>130263</td>\n",
       "      <td>243020</td>\n",
       "    </tr>\n",
       "  </tbody>\n",
       "</table>\n",
       "</div>"
      ],
      "text/plain": [
       "       Month      Region      Manager  Sales_before_digital_add(in $)  \\\n",
       "0    Month-1  Region - A  Manager - A                          132921   \n",
       "1    Month-2  Region - A  Manager - C                          149559   \n",
       "2    Month-3  Region - B  Manager - A                          146278   \n",
       "3    Month-4  Region - B  Manager - B                          152167   \n",
       "4    Month-5  Region - C  Manager - B                          159525   \n",
       "5    Month-6  Region - A  Manager - B                          137163   \n",
       "6    Month-7  Region - C  Manager - C                          130625   \n",
       "7    Month-8  Region - A  Manager - A                          131140   \n",
       "8    Month-9  Region - B  Manager - C                          171259   \n",
       "9   Month-10  Region - C  Manager - B                          141956   \n",
       "10  Month-11  Region - B  Manager - C                          159339   \n",
       "11  Month-12  Region - A  Manager - A                          178939   \n",
       "12  Month-13  Region - B  Manager - A                          145062   \n",
       "13  Month-14  Region - A  Manager - A                          151514   \n",
       "14  Month-15  Region - C  Manager - A                          147463   \n",
       "15  Month-16  Region - A  Manager - B                          177195   \n",
       "16  Month-17  Region - A  Manager - C                          140862   \n",
       "17  Month-18  Region - C  Manager - B                          167996   \n",
       "18  Month-19  Region - B  Manager - A                          132135   \n",
       "19  Month-20  Region - A  Manager - B                          152493   \n",
       "20  Month-21  Region - B  Manager - A                          147425   \n",
       "21  Month-22  Region - A  Manager - C                          130263   \n",
       "\n",
       "    Sales_After_digital_add(in $)  \n",
       "0                          270390  \n",
       "1                          223334  \n",
       "2                          244243  \n",
       "3                          231808  \n",
       "4                          258402  \n",
       "5                          256948  \n",
       "6                          222106  \n",
       "7                          230637  \n",
       "8                          226261  \n",
       "9                          193735  \n",
       "10                         203175  \n",
       "11                         276279  \n",
       "12                         205180  \n",
       "13                         253131  \n",
       "14                         229336  \n",
       "15                         187305  \n",
       "16                         234908  \n",
       "17                         191517  \n",
       "18                         227040  \n",
       "19                         212579  \n",
       "20                         263388  \n",
       "21                         243020  "
      ]
     },
     "execution_count": 2,
     "metadata": {},
     "output_type": "execute_result"
    }
   ],
   "source": [
    "df1=pd.read_csv(\"Sales_add.csv\")\n",
    "df1"
   ]
  },
  {
   "cell_type": "markdown",
   "id": "caec93dd",
   "metadata": {},
   "source": [
    "# 1.Testing whether there is any increase in sales after\n",
    "stepping into digital marketing."
   ]
  },
  {
   "cell_type": "code",
   "execution_count": null,
   "id": "d0c383ac",
   "metadata": {},
   "outputs": [],
   "source": [
    "H0:There is no increase in sales after digital marketing\n",
    "H1:There is an increase in sales after digital marketing\n",
    "Levelof significance=0.05"
   ]
  },
  {
   "cell_type": "code",
   "execution_count": 3,
   "id": "bf1fbe8c",
   "metadata": {},
   "outputs": [],
   "source": [
    "df2=df1['Sales_before_digital_add(in $)']\n",
    "df3=df1['Sales_After_digital_add(in $)']\n",
    "df4=df1.groupby('Manager').mean()\n",
    "df5=df1.groupby('Region').mean()"
   ]
  },
  {
   "cell_type": "code",
   "execution_count": 9,
   "id": "c5bac2ce",
   "metadata": {},
   "outputs": [
    {
     "name": "stdout",
     "output_type": "stream",
     "text": [
      "Reject null hypothesis\n",
      "-12.995084451110877\n",
      "2.614368006904645e-16\n"
     ]
    }
   ],
   "source": [
    "import scipy.stats as stats\n",
    "tscore, pval=stats.ttest_ind(df2,df3,equal_var=True,alternative='two-sided')\n",
    "alpha=0.05\n",
    "if pval<=alpha:\n",
    " print('Reject null hypothesis')\n",
    "else:\n",
    "    print('Accept null hyp')\n",
    "print(tscore)\n",
    "print(pval)"
   ]
  },
  {
   "cell_type": "markdown",
   "id": "e47912f8",
   "metadata": {},
   "source": [
    "Here the p value is less than 0.05, so we reject null hypothesis\n",
    "i.e., there is an increase in sales after digital marketing."
   ]
  },
  {
   "cell_type": "markdown",
   "id": "f5bb56cb",
   "metadata": {},
   "source": [
    "# 2.Checking for any dependency between the\n",
    "features “Region” and “Manager”."
   ]
  },
  {
   "cell_type": "code",
   "execution_count": null,
   "id": "b7af8a3e",
   "metadata": {},
   "outputs": [],
   "source": [
    "#H0= There is no dependency between managers and region.\n",
    "#H1= There is dependency between managers and region."
   ]
  },
  {
   "cell_type": "code",
   "execution_count": null,
   "id": "88882427",
   "metadata": {},
   "outputs": [],
   "source": [
    "#chi squaretest is used to check the dependency between the two features."
   ]
  },
  {
   "cell_type": "code",
   "execution_count": 11,
   "id": "1e1cdf06",
   "metadata": {},
   "outputs": [],
   "source": [
    "c_table=pd.crosstab(df1['Region'],df1['Manager'])#contigency table"
   ]
  },
  {
   "cell_type": "code",
   "execution_count": 12,
   "id": "55878138",
   "metadata": {},
   "outputs": [],
   "source": [
    "o_values=c_table.values#observed value"
   ]
  },
  {
   "cell_type": "code",
   "execution_count": 13,
   "id": "1e0ddaae",
   "metadata": {},
   "outputs": [],
   "source": [
    "b=stats.chi2_contingency(c_table)"
   ]
  },
  {
   "cell_type": "code",
   "execution_count": 14,
   "id": "faf8aa02",
   "metadata": {},
   "outputs": [],
   "source": [
    "e_values=b[3]#expected value"
   ]
  },
  {
   "cell_type": "code",
   "execution_count": 15,
   "id": "abf94386",
   "metadata": {},
   "outputs": [],
   "source": [
    "no_of_rows=len(c_table.iloc[0:2,0])\n",
    "no_of_columns=len(c_table.iloc[0,0:2])\n",
    "ddof=(no_of_rows-1)*(no_of_columns-1)"
   ]
  },
  {
   "cell_type": "code",
   "execution_count": 16,
   "id": "5ce7a366",
   "metadata": {},
   "outputs": [
    {
     "name": "stdout",
     "output_type": "stream",
     "text": [
      "chi2: 2.921995464852608\n"
     ]
    }
   ],
   "source": [
    "from scipy.stats import chi2\n",
    "chi_square=sum([(o-e)**2./e for o,e in zip(o_values,e_values)])\n",
    "chi_stat=chi_square[0]+chi_square[1]\n",
    "print('chi2:',chi_stat)"
   ]
  },
  {
   "cell_type": "code",
   "execution_count": 17,
   "id": "d2c2740f",
   "metadata": {},
   "outputs": [
    {
     "name": "stdout",
     "output_type": "stream",
     "text": [
      "0.08737974495299139\n"
     ]
    }
   ],
   "source": [
    "p_value=1-chi2.cdf(x=chi_stat,df=ddof)\n",
    "print(p_value)"
   ]
  },
  {
   "cell_type": "markdown",
   "id": "ea11fe03",
   "metadata": {},
   "source": [
    "Here p value is greater than alpha value,0.05 so we accept null hypothesis.\n",
    "there is no dependency between region and managers."
   ]
  }
 ],
 "metadata": {
  "kernelspec": {
   "display_name": "Python 3",
   "language": "python",
   "name": "python3"
  },
  "language_info": {
   "codemirror_mode": {
    "name": "ipython",
    "version": 3
   },
   "file_extension": ".py",
   "mimetype": "text/x-python",
   "name": "python",
   "nbconvert_exporter": "python",
   "pygments_lexer": "ipython3",
   "version": "3.8.8"
  }
 },
 "nbformat": 4,
 "nbformat_minor": 5
}
